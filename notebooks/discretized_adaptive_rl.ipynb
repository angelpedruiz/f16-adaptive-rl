{
 "cells": [
  {
   "cell_type": "markdown",
   "id": "ef78098d",
   "metadata": {},
   "source": [
    "DISCRETIZED FAULT-TOLERANT ONLINE ADAPTIVE RL CONTROLLER FOR LINEARISED F-16 MODEL\n",
    "\n",
    "Your assignment is to design, develop, implement and test a RL flight controller for a \n",
    "model of the F-16 aircraft. To limit the scope of the assignment, you will work with a \n",
    "linearized version of the aircraft model (provided to you). Furthermore you will only \n",
    "consider discrete RL, where the state space and actions space are discretized into a \n",
    "limited number of elements. This allows for a lookup-table based approach in the RL \n",
    "algorithm.  \n",
    "The intelligent controller must be trained in two phases. The first phase is offline training, \n",
    "where you learn the policy to control the nominal aircraft model. This training makes use \n",
    "of a simulated simulation model, so it is all right to crash a few times during learning \n",
    "(learning by exploration is dangerous!). In the second phase you switch to online \n",
    "learning, where you start with the best policy from the first phase. In this second phase \n",
    "we assume the controller is controlling the actual aircraft, so the number crashes should \n",
    "be minimized. Also in the second phase the nominal aircraft model is changed online to \n",
    "see how the RL controller will adapt. The changes in the model will reflect some failure \n",
    "cases of the aircraft, for example reduced control surface effectiveness, or reduction/loss \n",
    "of damping coefficients. "
   ]
  }
 ],
 "metadata": {
  "language_info": {
   "name": "python"
  }
 },
 "nbformat": 4,
 "nbformat_minor": 5
}
